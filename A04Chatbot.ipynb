{
 "cells": [
  {
   "cell_type": "code",
   "execution_count": 90,
   "metadata": {},
   "outputs": [
    {
     "name": "stdout",
     "output_type": "stream",
     "text": [
      "Defaulting to user installation because normal site-packages is not writeable\n",
      "Requirement already satisfied: gradio in c:\\users\\dsadm\\appdata\\roaming\\python\\python313\\site-packages (5.16.2)\n",
      "Requirement already satisfied: aiofiles<24.0,>=22.0 in c:\\users\\dsadm\\appdata\\roaming\\python\\python313\\site-packages (from gradio) (23.2.1)\n",
      "Requirement already satisfied: anyio<5.0,>=3.0 in c:\\users\\dsadm\\appdata\\roaming\\python\\python313\\site-packages (from gradio) (4.8.0)\n",
      "Requirement already satisfied: audioop-lts<1.0 in c:\\users\\dsadm\\appdata\\roaming\\python\\python313\\site-packages (from gradio) (0.2.1)\n",
      "Requirement already satisfied: fastapi<1.0,>=0.115.2 in c:\\users\\dsadm\\appdata\\roaming\\python\\python313\\site-packages (from gradio) (0.115.8)\n",
      "Requirement already satisfied: ffmpy in c:\\users\\dsadm\\appdata\\roaming\\python\\python313\\site-packages (from gradio) (0.5.0)\n",
      "Requirement already satisfied: gradio-client==1.7.1 in c:\\users\\dsadm\\appdata\\roaming\\python\\python313\\site-packages (from gradio) (1.7.1)\n",
      "Requirement already satisfied: httpx>=0.24.1 in c:\\users\\dsadm\\appdata\\roaming\\python\\python313\\site-packages (from gradio) (0.28.1)\n",
      "Requirement already satisfied: huggingface-hub>=0.28.1 in c:\\users\\dsadm\\appdata\\roaming\\python\\python313\\site-packages (from gradio) (0.29.0)\n",
      "Requirement already satisfied: jinja2<4.0 in c:\\users\\dsadm\\appdata\\roaming\\python\\python313\\site-packages (from gradio) (3.1.5)\n",
      "Requirement already satisfied: markupsafe~=2.0 in c:\\users\\dsadm\\appdata\\roaming\\python\\python313\\site-packages (from gradio) (2.1.5)\n",
      "Requirement already satisfied: numpy<3.0,>=1.0 in c:\\users\\dsadm\\appdata\\roaming\\python\\python313\\site-packages (from gradio) (2.2.3)\n",
      "Requirement already satisfied: orjson~=3.0 in c:\\users\\dsadm\\appdata\\roaming\\python\\python313\\site-packages (from gradio) (3.10.15)\n",
      "Requirement already satisfied: packaging in c:\\users\\dsadm\\appdata\\roaming\\python\\python313\\site-packages (from gradio) (24.2)\n",
      "Requirement already satisfied: pandas<3.0,>=1.0 in c:\\users\\dsadm\\appdata\\roaming\\python\\python313\\site-packages (from gradio) (2.2.3)\n",
      "Requirement already satisfied: pillow<12.0,>=8.0 in c:\\users\\dsadm\\appdata\\roaming\\python\\python313\\site-packages (from gradio) (11.1.0)\n",
      "Requirement already satisfied: pydantic>=2.0 in c:\\users\\dsadm\\appdata\\roaming\\python\\python313\\site-packages (from gradio) (2.10.6)\n",
      "Requirement already satisfied: pydub in c:\\users\\dsadm\\appdata\\roaming\\python\\python313\\site-packages (from gradio) (0.25.1)\n",
      "Requirement already satisfied: python-multipart>=0.0.18 in c:\\users\\dsadm\\appdata\\roaming\\python\\python313\\site-packages (from gradio) (0.0.20)\n",
      "Requirement already satisfied: pyyaml<7.0,>=5.0 in c:\\users\\dsadm\\appdata\\roaming\\python\\python313\\site-packages (from gradio) (6.0.2)\n",
      "Requirement already satisfied: ruff>=0.9.3 in c:\\users\\dsadm\\appdata\\roaming\\python\\python313\\site-packages (from gradio) (0.9.6)\n",
      "Requirement already satisfied: safehttpx<0.2.0,>=0.1.6 in c:\\users\\dsadm\\appdata\\roaming\\python\\python313\\site-packages (from gradio) (0.1.6)\n",
      "Requirement already satisfied: semantic-version~=2.0 in c:\\users\\dsadm\\appdata\\roaming\\python\\python313\\site-packages (from gradio) (2.10.0)\n",
      "Requirement already satisfied: starlette<1.0,>=0.40.0 in c:\\users\\dsadm\\appdata\\roaming\\python\\python313\\site-packages (from gradio) (0.45.3)\n",
      "Requirement already satisfied: tomlkit<0.14.0,>=0.12.0 in c:\\users\\dsadm\\appdata\\roaming\\python\\python313\\site-packages (from gradio) (0.13.2)\n",
      "Requirement already satisfied: typer<1.0,>=0.12 in c:\\users\\dsadm\\appdata\\roaming\\python\\python313\\site-packages (from gradio) (0.15.1)\n",
      "Requirement already satisfied: typing-extensions~=4.0 in c:\\users\\dsadm\\appdata\\roaming\\python\\python313\\site-packages (from gradio) (4.12.2)\n",
      "Requirement already satisfied: uvicorn>=0.14.0 in c:\\users\\dsadm\\appdata\\roaming\\python\\python313\\site-packages (from gradio) (0.34.0)\n",
      "Requirement already satisfied: fsspec in c:\\users\\dsadm\\appdata\\roaming\\python\\python313\\site-packages (from gradio-client==1.7.1->gradio) (2025.2.0)\n",
      "Requirement already satisfied: websockets<15.0,>=10.0 in c:\\users\\dsadm\\appdata\\roaming\\python\\python313\\site-packages (from gradio-client==1.7.1->gradio) (14.2)\n",
      "Requirement already satisfied: idna>=2.8 in c:\\users\\dsadm\\appdata\\roaming\\python\\python313\\site-packages (from anyio<5.0,>=3.0->gradio) (3.10)\n",
      "Requirement already satisfied: sniffio>=1.1 in c:\\users\\dsadm\\appdata\\roaming\\python\\python313\\site-packages (from anyio<5.0,>=3.0->gradio) (1.3.1)\n",
      "Requirement already satisfied: certifi in c:\\users\\dsadm\\appdata\\roaming\\python\\python313\\site-packages (from httpx>=0.24.1->gradio) (2025.1.31)\n",
      "Requirement already satisfied: httpcore==1.* in c:\\users\\dsadm\\appdata\\roaming\\python\\python313\\site-packages (from httpx>=0.24.1->gradio) (1.0.7)\n",
      "Requirement already satisfied: h11<0.15,>=0.13 in c:\\users\\dsadm\\appdata\\roaming\\python\\python313\\site-packages (from httpcore==1.*->httpx>=0.24.1->gradio) (0.14.0)\n",
      "Requirement already satisfied: filelock in c:\\users\\dsadm\\appdata\\roaming\\python\\python313\\site-packages (from huggingface-hub>=0.28.1->gradio) (3.17.0)\n",
      "Requirement already satisfied: requests in c:\\users\\dsadm\\appdata\\roaming\\python\\python313\\site-packages (from huggingface-hub>=0.28.1->gradio) (2.32.3)\n",
      "Requirement already satisfied: tqdm>=4.42.1 in c:\\users\\dsadm\\appdata\\roaming\\python\\python313\\site-packages (from huggingface-hub>=0.28.1->gradio) (4.67.1)\n",
      "Requirement already satisfied: python-dateutil>=2.8.2 in c:\\users\\dsadm\\appdata\\roaming\\python\\python313\\site-packages (from pandas<3.0,>=1.0->gradio) (2.9.0.post0)\n",
      "Requirement already satisfied: pytz>=2020.1 in c:\\users\\dsadm\\appdata\\roaming\\python\\python313\\site-packages (from pandas<3.0,>=1.0->gradio) (2025.1)\n",
      "Requirement already satisfied: tzdata>=2022.7 in c:\\users\\dsadm\\appdata\\roaming\\python\\python313\\site-packages (from pandas<3.0,>=1.0->gradio) (2025.1)\n",
      "Requirement already satisfied: annotated-types>=0.6.0 in c:\\users\\dsadm\\appdata\\roaming\\python\\python313\\site-packages (from pydantic>=2.0->gradio) (0.7.0)\n",
      "Requirement already satisfied: pydantic-core==2.27.2 in c:\\users\\dsadm\\appdata\\roaming\\python\\python313\\site-packages (from pydantic>=2.0->gradio) (2.27.2)\n",
      "Requirement already satisfied: click>=8.0.0 in c:\\users\\dsadm\\appdata\\roaming\\python\\python313\\site-packages (from typer<1.0,>=0.12->gradio) (8.1.8)\n",
      "Requirement already satisfied: shellingham>=1.3.0 in c:\\users\\dsadm\\appdata\\roaming\\python\\python313\\site-packages (from typer<1.0,>=0.12->gradio) (1.5.4)\n",
      "Requirement already satisfied: rich>=10.11.0 in c:\\users\\dsadm\\appdata\\roaming\\python\\python313\\site-packages (from typer<1.0,>=0.12->gradio) (13.9.4)\n",
      "Requirement already satisfied: colorama in c:\\users\\dsadm\\appdata\\roaming\\python\\python313\\site-packages (from click>=8.0.0->typer<1.0,>=0.12->gradio) (0.4.6)\n",
      "Requirement already satisfied: six>=1.5 in c:\\users\\dsadm\\appdata\\roaming\\python\\python313\\site-packages (from python-dateutil>=2.8.2->pandas<3.0,>=1.0->gradio) (1.17.0)\n",
      "Requirement already satisfied: markdown-it-py>=2.2.0 in c:\\users\\dsadm\\appdata\\roaming\\python\\python313\\site-packages (from rich>=10.11.0->typer<1.0,>=0.12->gradio) (3.0.0)\n",
      "Requirement already satisfied: pygments<3.0.0,>=2.13.0 in c:\\users\\dsadm\\appdata\\roaming\\python\\python313\\site-packages (from rich>=10.11.0->typer<1.0,>=0.12->gradio) (2.19.1)\n",
      "Requirement already satisfied: charset-normalizer<4,>=2 in c:\\users\\dsadm\\appdata\\roaming\\python\\python313\\site-packages (from requests->huggingface-hub>=0.28.1->gradio) (3.4.1)\n",
      "Requirement already satisfied: urllib3<3,>=1.21.1 in c:\\users\\dsadm\\appdata\\roaming\\python\\python313\\site-packages (from requests->huggingface-hub>=0.28.1->gradio) (2.3.0)\n",
      "Requirement already satisfied: mdurl~=0.1 in c:\\users\\dsadm\\appdata\\roaming\\python\\python313\\site-packages (from markdown-it-py>=2.2.0->rich>=10.11.0->typer<1.0,>=0.12->gradio) (0.1.2)\n"
     ]
    },
    {
     "name": "stderr",
     "output_type": "stream",
     "text": [
      "\n",
      "[notice] A new release of pip is available: 24.3.1 -> 25.0.1\n",
      "[notice] To update, run: python.exe -m pip install --upgrade pip\n"
     ]
    }
   ],
   "source": [
    "# instalação biblioteca Gradio\n",
    "!pip install gradio"
   ]
  },
  {
   "cell_type": "code",
   "execution_count": 91,
   "metadata": {},
   "outputs": [
    {
     "name": "stdout",
     "output_type": "stream",
     "text": [
      "Defaulting to user installation because normal site-packages is not writeable\n",
      "Requirement already satisfied: Groq in c:\\users\\dsadm\\appdata\\roaming\\python\\python313\\site-packages (0.18.0)\n",
      "Requirement already satisfied: anyio<5,>=3.5.0 in c:\\users\\dsadm\\appdata\\roaming\\python\\python313\\site-packages (from Groq) (4.8.0)\n",
      "Requirement already satisfied: distro<2,>=1.7.0 in c:\\users\\dsadm\\appdata\\roaming\\python\\python313\\site-packages (from Groq) (1.9.0)\n",
      "Requirement already satisfied: httpx<1,>=0.23.0 in c:\\users\\dsadm\\appdata\\roaming\\python\\python313\\site-packages (from Groq) (0.28.1)\n",
      "Requirement already satisfied: pydantic<3,>=1.9.0 in c:\\users\\dsadm\\appdata\\roaming\\python\\python313\\site-packages (from Groq) (2.10.6)\n",
      "Requirement already satisfied: sniffio in c:\\users\\dsadm\\appdata\\roaming\\python\\python313\\site-packages (from Groq) (1.3.1)\n",
      "Requirement already satisfied: typing-extensions<5,>=4.10 in c:\\users\\dsadm\\appdata\\roaming\\python\\python313\\site-packages (from Groq) (4.12.2)\n",
      "Requirement already satisfied: idna>=2.8 in c:\\users\\dsadm\\appdata\\roaming\\python\\python313\\site-packages (from anyio<5,>=3.5.0->Groq) (3.10)\n",
      "Requirement already satisfied: certifi in c:\\users\\dsadm\\appdata\\roaming\\python\\python313\\site-packages (from httpx<1,>=0.23.0->Groq) (2025.1.31)\n",
      "Requirement already satisfied: httpcore==1.* in c:\\users\\dsadm\\appdata\\roaming\\python\\python313\\site-packages (from httpx<1,>=0.23.0->Groq) (1.0.7)\n",
      "Requirement already satisfied: h11<0.15,>=0.13 in c:\\users\\dsadm\\appdata\\roaming\\python\\python313\\site-packages (from httpcore==1.*->httpx<1,>=0.23.0->Groq) (0.14.0)\n",
      "Requirement already satisfied: annotated-types>=0.6.0 in c:\\users\\dsadm\\appdata\\roaming\\python\\python313\\site-packages (from pydantic<3,>=1.9.0->Groq) (0.7.0)\n",
      "Requirement already satisfied: pydantic-core==2.27.2 in c:\\users\\dsadm\\appdata\\roaming\\python\\python313\\site-packages (from pydantic<3,>=1.9.0->Groq) (2.27.2)\n",
      "Note: you may need to restart the kernel to use updated packages.\n"
     ]
    },
    {
     "name": "stderr",
     "output_type": "stream",
     "text": [
      "\n",
      "[notice] A new release of pip is available: 24.3.1 -> 25.0.1\n",
      "[notice] To update, run: python.exe -m pip install --upgrade pip\n"
     ]
    }
   ],
   "source": [
    "pip install Groq    "
   ]
  },
  {
   "cell_type": "code",
   "execution_count": 92,
   "metadata": {},
   "outputs": [],
   "source": [
    "import gradio as gr"
   ]
  },
  {
   "cell_type": "code",
   "execution_count": 93,
   "metadata": {},
   "outputs": [
    {
     "name": "stdout",
     "output_type": "stream",
     "text": [
      "* Running on local URL:  http://127.0.0.1:7888\n",
      "\n",
      "To create a public link, set `share=True` in `launch()`.\n"
     ]
    },
    {
     "data": {
      "text/html": [
       "<div><iframe src=\"http://127.0.0.1:7888/\" width=\"100%\" height=\"500\" allow=\"autoplay; camera; microphone; clipboard-read; clipboard-write;\" frameborder=\"0\" allowfullscreen></iframe></div>"
      ],
      "text/plain": [
       "<IPython.core.display.HTML object>"
      ]
     },
     "metadata": {},
     "output_type": "display_data"
    },
    {
     "data": {
      "text/plain": []
     },
     "execution_count": 93,
     "metadata": {},
     "output_type": "execute_result"
    }
   ],
   "source": [
    "# função hello\n",
    "def hello(name):\n",
    "    return f\"Olá {name}\"\n",
    "iface = gr.Interface(fn=hello, inputs=\"text\", outputs=\"text\")\n",
    "iface.launch()"
   ]
  },
  {
   "cell_type": "code",
   "execution_count": 94,
   "metadata": {},
   "outputs": [],
   "source": [
    "import os # interação com sistema operacional\n",
    "import gradio # criar interface web\n",
    "from groq import Groq # interação com API Groq\n"
   ]
  },
  {
   "cell_type": "code",
   "execution_count": 95,
   "metadata": {},
   "outputs": [
    {
     "name": "stdout",
     "output_type": "stream",
     "text": [
      "* Running on local URL:  http://127.0.0.1:7889\n",
      "\n",
      "To create a public link, set `share=True` in `launch()`.\n"
     ]
    },
    {
     "data": {
      "text/html": [
       "<div><iframe src=\"http://127.0.0.1:7889/\" width=\"100%\" height=\"500\" allow=\"autoplay; camera; microphone; clipboard-read; clipboard-write;\" frameborder=\"0\" allowfullscreen></iframe></div>"
      ],
      "text/plain": [
       "<IPython.core.display.HTML object>"
      ]
     },
     "metadata": {},
     "output_type": "display_data"
    }
   ],
   "source": [
    "# Chave da API GROQ\n",
    "GROQ_API_KEY = os.getenv('GROQ_API_KEY', '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')\n",
    "\n",
    "# inicializa o cliente da API Groq\n",
    "client = Groq(api_key=GROQ_API_KEY)\n",
    "\n",
    "# função p/ processar os inputs do usuário e dar uma resposta\n",
    "def assistenteAgricultura(user_prompt):\n",
    "    if user_prompt.strip()==\"15\":\n",
    "        return \"Encerrando assistente agro! Até mais!\"\n",
    "\n",
    "    # Faz a solicitação para o modelo LLM\n",
    "    completion = client.chat.completions.create(\n",
    "        model=\"llama3-8b-8192\",\n",
    "        messages=[\n",
    "            {\n",
    "                \"role\":\"system\",\"content\":\"Você é um assistente especializado em agricultura\"\n",
    "            },\n",
    "            {\n",
    "                \"role\":\"user\", \"content\":user_prompt\n",
    "            }\n",
    "        ],\n",
    "        temperature=2,\n",
    "        max_tokens=1024,\n",
    "        top_p=1,\n",
    "        stream=False\n",
    "    )\n",
    "\n",
    "    # Retorna a resposta do assistente\n",
    "    return completion.choices[0].message.content\n",
    "\n",
    "# Configura a interface do Gradio\n",
    "iface = gr.Interface(fn=assistenteAgricultura,\n",
    "                     inputs=gr.Textbox(lines=2, placeholder=\"Digite sua pergunta sobre agricultura: \"),\n",
    "                     outputs=\"text\",\n",
    "                     title=\"Assistente Agro IA\",\n",
    "                     description=\"Pergunte algo sobre agricultura e receba respostas da IA especializada\",\n",
    "                     live=True\n",
    "                    )\n",
    "\n",
    "# Executa a interface web\n",
    "if __name__==\"__main__\":\n",
    "    iface.launch()"
   ]
  }
 ],
 "metadata": {
  "kernelspec": {
   "display_name": "Python 3",
   "language": "python",
   "name": "python3"
  },
  "language_info": {
   "codemirror_mode": {
    "name": "ipython",
    "version": 3
   },
   "file_extension": ".py",
   "mimetype": "text/x-python",
   "name": "python",
   "nbconvert_exporter": "python",
   "pygments_lexer": "ipython3",
   "version": "3.13.1"
  }
 },
 "nbformat": 4,
 "nbformat_minor": 2
}
